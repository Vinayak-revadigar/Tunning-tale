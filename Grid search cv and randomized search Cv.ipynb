{
 "cells": [
  {
   "cell_type": "code",
   "execution_count": null,
   "id": "8971fb58",
   "metadata": {},
   "outputs": [],
   "source": [
    "# I have not performed any data preprocessing in this example . \n",
    "#Idea is to show the difference in working of both tunning methods "
   ]
  },
  {
   "cell_type": "code",
   "execution_count": 27,
   "id": "a98d4710",
   "metadata": {},
   "outputs": [],
   "source": [
    "# importing necessary libraries\n",
    "import pandas as pd \n",
    "import numpy as np \n",
    "import seaborn as sns\n",
    "import matplotlib.pyplot as plt "
   ]
  },
  {
   "cell_type": "code",
   "execution_count": 28,
   "id": "862ba74e",
   "metadata": {},
   "outputs": [],
   "source": [
    "import warnings\n",
    "warnings.filterwarnings(\"ignore\")\n"
   ]
  },
  {
   "cell_type": "code",
   "execution_count": 29,
   "id": "1207815d",
   "metadata": {},
   "outputs": [],
   "source": [
    "df=pd.read_csv('train.csv')"
   ]
  },
  {
   "cell_type": "code",
   "execution_count": 30,
   "id": "3446f74a",
   "metadata": {},
   "outputs": [],
   "source": [
    "\n",
    "# Splitting the data into features (X) and target (y)\n",
    "X = df[['trip_duration', 'distance_traveled', 'num_of_passengers', 'tip', 'miscellaneous_fees', 'surge_applied']]\n",
    "y = df['total_fare']\n",
    "\n",
    "# Splitting the data into train and test sets\n",
    "X_train, X_test, y_train, y_test = train_test_split(X, y, test_size=0.2, random_state=42)"
   ]
  },
  {
   "cell_type": "code",
   "execution_count": 31,
   "id": "eebfbef3",
   "metadata": {},
   "outputs": [],
   "source": [
    "# Defining the parameter grid\n",
    "param_grid = {\n",
    "    'max_depth': [5, 10, 15, 20],\n",
    "    'min_samples_split': [2, 5, 10, 15],\n",
    "    'min_samples_leaf': [1, 3, 5, 7],\n",
    "}\n",
    "\n",
    "# Performing GridSearchCV\n",
    "grid_search = GridSearchCV(DecisionTreeRegressor(random_state=42), param_grid=param_grid, scoring='neg_mean_absolute_error', cv=5, n_jobs=-1)\n",
    "grid_search.fit(X_train, y_train)\n",
    "\n",
    "# Getting the best model from GridSearchCV\n",
    "best_model_grid = grid_search.best_estimator_\n",
    "depth_grid = best_model_grid.get_depth()\n",
    "params_grid = best_model_grid.get_params()\n",
    "\n",
    "# Predicting on train and test sets using the best model from GridSearchCV\n",
    "y_train_pred_grid = best_model_grid.predict(X_train)\n",
    "y_test_pred_grid = best_model_grid.predict(X_test)\n",
    "\n",
    "# Calculating MAE and RMSE for train and test sets using the best model from GridSearchCV\n",
    "train_mae_grid = mean_absolute_error(y_train, y_train_pred_grid)\n",
    "test_mae_grid = mean_absolute_error(y_test, y_test_pred_grid)\n",
    "train_rmse_grid = mean_squared_error(y_train, y_train_pred_grid, squared=False)\n",
    "test_rmse_grid = mean_squared_error(y_test, y_test_pred_grid, squared=False)\n",
    "\n",
    "# Creating a DataFrame to store the results\n",
    "results = pd.DataFrame({'Method': ['Decision Tree (GridSearchCV)'],\n",
    "                        'Train MAE': [train_mae_grid],\n",
    "                        'Test MAE': [test_mae_grid],\n",
    "                        'Train RMSE': [train_rmse_grid],\n",
    "                        'Test RMSE': [test_rmse_grid],\n",
    "                        'Depth': [depth_grid],\n",
    "                        'Fitted Parameters': [params_grid]})\n"
   ]
  },
  {
   "cell_type": "code",
   "execution_count": 32,
   "id": "501187c9",
   "metadata": {},
   "outputs": [],
   "source": [
    "# Performing RandomizedSearchCV\n",
    "randomized_search = RandomizedSearchCV(DecisionTreeRegressor(random_state=42), param_distributions=param_grid, n_iter=10, scoring='neg_mean_absolute_error', cv=5, n_jobs=-1)\n",
    "randomized_search.fit(X_train, y_train)\n",
    "\n",
    "# Getting the best model from RandomizedSearchCV\n",
    "best_model_random = randomized_search.best_estimator_\n",
    "depth_random = best_model_random.get_depth()\n",
    "params_random = best_model_random.get_params()\n",
    "\n",
    "# Predicting on train and test sets using the best model from RandomizedSearchCV\n",
    "y_train_pred_random = best_model_random.predict(X_train)\n",
    "y_test_pred_random = best_model_random.predict(X_test)\n",
    "\n",
    "# Calculating MAE and RMSE for train and test sets using the best model from RandomizedSearchCV\n",
    "train_mae_random = mean_absolute_error(y_train, y_train_pred_random)\n",
    "test_mae_random = mean_absolute_error(y_test, y_test_pred_random)\n",
    "train_rmse_random = mean_squared_error(y_train, y_train_pred_random, squared=False)\n",
    "test_rmse_random = mean_squared_error(y_test, y_test_pred_random, squared=False)\n",
    "\n",
    "# Adding the results of RandomizedSearchCV to the DataFrame\n",
    "results = results.append({'Method': 'Decision Tree (RandomizedSearchCV)',\n",
    "                          'Train MAE': train_mae_random,\n",
    "                          'Test MAE': test_mae_random,\n",
    "                          'Train RMSE': train_rmse_random,\n",
    "                          'Test RMSE': test_rmse_random,\n",
    "                          'Depth': depth_random,\n",
    "                          'Fitted Parameters': params_random}, ignore_index=True)\n"
   ]
  },
  {
   "cell_type": "code",
   "execution_count": 33,
   "id": "9ae40251",
   "metadata": {},
   "outputs": [
    {
     "data": {
      "text/html": [
       "<div>\n",
       "<style scoped>\n",
       "    .dataframe tbody tr th:only-of-type {\n",
       "        vertical-align: middle;\n",
       "    }\n",
       "\n",
       "    .dataframe tbody tr th {\n",
       "        vertical-align: top;\n",
       "    }\n",
       "\n",
       "    .dataframe thead th {\n",
       "        text-align: right;\n",
       "    }\n",
       "</style>\n",
       "<table border=\"1\" class=\"dataframe\">\n",
       "  <thead>\n",
       "    <tr style=\"text-align: right;\">\n",
       "      <th></th>\n",
       "      <th>Method</th>\n",
       "      <th>Train MAE</th>\n",
       "      <th>Test MAE</th>\n",
       "      <th>Train RMSE</th>\n",
       "      <th>Test RMSE</th>\n",
       "      <th>Depth</th>\n",
       "      <th>Fitted Parameters</th>\n",
       "    </tr>\n",
       "  </thead>\n",
       "  <tbody>\n",
       "    <tr>\n",
       "      <th>0</th>\n",
       "      <td>Decision Tree (GridSearchCV)</td>\n",
       "      <td>4.303690</td>\n",
       "      <td>7.184586</td>\n",
       "      <td>29.938416</td>\n",
       "      <td>48.445506</td>\n",
       "      <td>20</td>\n",
       "      <td>{'ccp_alpha': 0.0, 'criterion': 'squared_error...</td>\n",
       "    </tr>\n",
       "    <tr>\n",
       "      <th>1</th>\n",
       "      <td>Decision Tree (RandomizedSearchCV)</td>\n",
       "      <td>4.749561</td>\n",
       "      <td>7.038871</td>\n",
       "      <td>31.903498</td>\n",
       "      <td>44.320716</td>\n",
       "      <td>20</td>\n",
       "      <td>{'ccp_alpha': 0.0, 'criterion': 'squared_error...</td>\n",
       "    </tr>\n",
       "  </tbody>\n",
       "</table>\n",
       "</div>"
      ],
      "text/plain": [
       "                               Method  Train MAE  Test MAE  Train RMSE  \\\n",
       "0        Decision Tree (GridSearchCV)   4.303690  7.184586   29.938416   \n",
       "1  Decision Tree (RandomizedSearchCV)   4.749561  7.038871   31.903498   \n",
       "\n",
       "   Test RMSE  Depth                                  Fitted Parameters  \n",
       "0  48.445506     20  {'ccp_alpha': 0.0, 'criterion': 'squared_error...  \n",
       "1  44.320716     20  {'ccp_alpha': 0.0, 'criterion': 'squared_error...  "
      ]
     },
     "execution_count": 33,
     "metadata": {},
     "output_type": "execute_result"
    }
   ],
   "source": [
    "results"
   ]
  },
  {
   "cell_type": "raw",
   "id": "12e97bd2",
   "metadata": {},
   "source": [
    "As you can see from the above results dataframe , \n",
    "randomized search has fetched similar results with very less number of iterations"
   ]
  }
 ],
 "metadata": {
  "kernelspec": {
   "display_name": "Python 3 (ipykernel)",
   "language": "python",
   "name": "python3"
  },
  "language_info": {
   "codemirror_mode": {
    "name": "ipython",
    "version": 3
   },
   "file_extension": ".py",
   "mimetype": "text/x-python",
   "name": "python",
   "nbconvert_exporter": "python",
   "pygments_lexer": "ipython3",
   "version": "3.9.13"
  }
 },
 "nbformat": 4,
 "nbformat_minor": 5
}
